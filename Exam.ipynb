{
 "cells": [
  {
   "cell_type": "markdown",
   "id": "fcc1393b",
   "metadata": {},
   "source": [
    "Exersice 1 : Intro to numpy"
   ]
  },
  {
   "cell_type": "markdown",
   "id": "5fd33a24-336c-44b0-a3ce-cfe5b5af379a",
   "metadata": {},
   "source": [
    "\n",
    "\n",
    "1. Create a 1-D array"
   ]
  },
  {
   "cell_type": "code",
   "execution_count": 1,
   "id": "2891a65a-a687-4028-a6d4-7163da02190e",
   "metadata": {},
   "outputs": [
    {
     "name": "stdout",
     "output_type": "stream",
     "text": [
      "[1 2 3 4]\n",
      "<class 'numpy.ndarray'>\n"
     ]
    }
   ],
   "source": [
    "import numpy as np\n",
    "a=np.array([1,2,3,4])\n",
    "print(a)\n",
    "print(type(a))"
   ]
  },
  {
   "cell_type": "markdown",
   "id": "dc53abfb-5119-47c1-b25d-d3686978ee09",
   "metadata": {},
   "source": [
    "2. Create a 2-D array"
   ]
  },
  {
   "cell_type": "code",
   "execution_count": 3,
   "id": "820580a6-75bc-4efe-886a-90c72baba6c4",
   "metadata": {},
   "outputs": [
    {
     "name": "stdout",
     "output_type": "stream",
     "text": [
      "[[1 2]\n",
      " [2 3]]\n",
      "<class 'numpy.ndarray'>\n"
     ]
    }
   ],
   "source": [
    "b=np.array([[1,2],[2,3]])\n",
    "print(b)\n",
    "print(type(b))"
   ]
  },
  {
   "cell_type": "markdown",
   "id": "4c8bff4a-c978-49b1-a38f-7d4cbe3f98d5",
   "metadata": {},
   "source": [
    "3. Array using \"np.arange\""
   ]
  },
  {
   "cell_type": "code",
   "execution_count": 6,
   "id": "0cc24828-6575-4a61-aa7c-da7484d5f84a",
   "metadata": {},
   "outputs": [
    {
     "name": "stdout",
     "output_type": "stream",
     "text": [
      "[0 1 2 3 4]\n",
      "<class 'numpy.ndarray'>\n"
     ]
    }
   ],
   "source": [
    "c=np.arange(5)\n",
    "print(c)\n",
    "print(type(c))"
   ]
  },
  {
   "cell_type": "markdown",
   "id": "d50a0f8c-935b-4712-a256-e7706c4e9591",
   "metadata": {},
   "source": [
    "4. User defined 1-D array"
   ]
  },
  {
   "cell_type": "code",
   "execution_count": 18,
   "id": "0dc04afd-f261-4fe8-acde-d6addf290000",
   "metadata": {},
   "outputs": [
    {
     "name": "stdout",
     "output_type": "stream",
     "text": [
      "Enter numbers :  1 2 3 4\n"
     ]
    },
    {
     "name": "stdout",
     "output_type": "stream",
     "text": [
      "[1 2 3 4]\n"
     ]
    }
   ],
   "source": [
    "n=list(map(int,input(\"Enter numbers : \").split()))\n",
    "d=np.array(n)\n",
    "print(d)"
   ]
  },
  {
   "cell_type": "markdown",
   "id": "d229269f-388e-4093-96c6-8fda949b2e25",
   "metadata": {},
   "source": [
    "5. User defined 2-D array"
   ]
  },
  {
   "cell_type": "code",
   "execution_count": 20,
   "id": "d591fdd8-3ca3-4689-88fe-510c5ed3610f",
   "metadata": {},
   "outputs": [
    {
     "name": "stdout",
     "output_type": "stream",
     "text": [
      "Enter 1st numbers :  1 2 3\n",
      "Enter 2nd numbers :  2 3 4\n"
     ]
    },
    {
     "name": "stdout",
     "output_type": "stream",
     "text": [
      "[[1 2 3]\n",
      " [2 3 4]]\n"
     ]
    }
   ],
   "source": [
    "x=list(map(int,input(\"Enter 1st sub-list : \").split()))\n",
    "y=list(map(int,input(\"Enter 2nd sub-list : \").split()))\n",
    "e=np.array([x,y])\n",
    "print(e)"
   ]
  },
  {
   "cell_type": "markdown",
   "id": "54ca013d-b92e-4236-a992-07a25defb4f0",
   "metadata": {},
   "source": [
    "6. Finding dimension of a array"
   ]
  },
  {
   "cell_type": "code",
   "execution_count": 26,
   "id": "e2159587-b058-4e12-aef8-346d3f2b69d5",
   "metadata": {},
   "outputs": [
    {
     "name": "stdout",
     "output_type": "stream",
     "text": [
      "(3,)\n",
      "(2, 3)\n"
     ]
    }
   ],
   "source": [
    "print(c.shape)\n",
    "print(e.shape)"
   ]
  },
  {
   "cell_type": "markdown",
   "id": "d5e48b54-b017-485f-b370-b8d8357fb45b",
   "metadata": {},
   "source": [
    "7. Change shape of array"
   ]
  },
  {
   "cell_type": "code",
   "execution_count": 30,
   "id": "2df3f046-4e27-49b9-82a8-b31203558cad",
   "metadata": {},
   "outputs": [
    {
     "name": "stdout",
     "output_type": "stream",
     "text": [
      "[[1 2]\n",
      " [3 2]\n",
      " [3 4]]\n"
     ]
    }
   ],
   "source": [
    "g=e.reshape(3,2)\n",
    "print(g)"
   ]
  },
  {
   "cell_type": "markdown",
   "id": "4b72a1dd-d705-4d7c-95e8-307e934fef31",
   "metadata": {},
   "source": [
    "8. Matrix of n no of zeros"
   ]
  },
  {
   "cell_type": "code",
   "execution_count": 32,
   "id": "9d50b042-90ce-4448-bcbd-b074f6a9da40",
   "metadata": {},
   "outputs": [
    {
     "name": "stdout",
     "output_type": "stream",
     "text": [
      "[0. 0. 0. 0.]\n",
      "[[0. 0.]\n",
      " [0. 0.]]\n"
     ]
    }
   ],
   "source": [
    "a = np.zeros(4)\n",
    "print(a)\n",
    "b = a.reshape(2,2)\n",
    "print(b)"
   ]
  },
  {
   "cell_type": "markdown",
   "id": "460e4563-5020-4a9a-8a78-9d806dcda4c1",
   "metadata": {},
   "source": [
    "9. Identity matrix of size n"
   ]
  },
  {
   "cell_type": "code",
   "execution_count": 11,
   "id": "0a7d159c-3da5-4998-9de5-bd6f7d1743e4",
   "metadata": {},
   "outputs": [
    {
     "name": "stdout",
     "output_type": "stream",
     "text": [
      "[[1. 0. 0. 0.]\n",
      " [0. 1. 0. 0.]\n",
      " [0. 0. 1. 0.]\n",
      " [0. 0. 0. 1.]]\n"
     ]
    }
   ],
   "source": [
    "a=np.identity(4)\n",
    "\n",
    "print(a)"
   ]
  },
  {
   "cell_type": "markdown",
   "id": "75ae9866-a914-4f1c-a6eb-988e87a6b579",
   "metadata": {},
   "source": [
    "10. User-defined elements in diagonal postion"
   ]
  },
  {
   "cell_type": "code",
   "execution_count": 12,
   "id": "c470e16d-8d06-4d61-98cc-de6363585c2c",
   "metadata": {},
   "outputs": [
    {
     "name": "stdout",
     "output_type": "stream",
     "text": [
      "[[1 0 0 0 0]\n",
      " [0 2 0 0 0]\n",
      " [0 0 3 0 0]\n",
      " [0 0 0 4 0]\n",
      " [0 0 0 0 5]]\n"
     ]
    }
   ],
   "source": [
    "a=np.diag([1,2,3,4,5])\n",
    "\n",
    "print(a)"
   ]
  },
  {
   "cell_type": "markdown",
   "id": "6a0ec2ac-a8ab-4510-85c2-3ab1f8316259",
   "metadata": {},
   "source": [
    "11. Comparison of arrays"
   ]
  },
  {
   "cell_type": "code",
   "execution_count": 14,
   "id": "46125c72-23a8-4b34-afe1-eb5bc58addd3",
   "metadata": {},
   "outputs": [
    {
     "name": "stdout",
     "output_type": "stream",
     "text": [
      "L1>L2 [False False False False] \n",
      "L1>=L2 [False  True False False] \n",
      "L1<L2 [ True False  True  True] \n",
      "L1<=L2 [ True  True  True  True] \n",
      "L1=L2 [False  True False False]\n"
     ]
    }
   ],
   "source": [
    "L1 = np.array([1,2,3,4])\n",
    "L2 = np.array([5,2,6,7])\n",
    "gr=np.greater(L1,L2)\n",
    "ge=np.greater_equal(L1,L2)\n",
    "ls=np.less(L1,L2)\n",
    "le=np.less_equal(L1,L2)\n",
    "eq=np.equal(L1,L2)\n",
    "print(\"L1>L2\",gr,\"\\nL1>=L2\",ge,\"\\nL1<L2\",ls,\"\\nL1<=L2\",le,\"\\nL1=L2\",eq)"
   ]
  },
  {
   "cell_type": "markdown",
   "id": "1fbe0720-992d-44ab-bbb6-88d7616b9437",
   "metadata": {},
   "source": [
    "12. Write a numpy prgm to create a vector with values from 0 to 20 and change the sign of the numbers in the range from 9 to 15"
   ]
  },
  {
   "cell_type": "code",
   "execution_count": 18,
   "id": "fdbed52c-0c85-405d-9cbb-f6176b5cccd1",
   "metadata": {},
   "outputs": [
    {
     "name": "stdout",
     "output_type": "stream",
     "text": [
      "[ 0  1  2  3  4  5  6  7  8  9 10 11 12 13 14 15 16 17 18 19 20]\n",
      "[  0   1   2   3   4   5   6   7   8  -9 -10 -11 -12 -13 -14 -15  16  17\n",
      "  18  19  20]\n"
     ]
    }
   ],
   "source": [
    "a=np.arange(21)\n",
    "print(a)\n",
    "for i in a:\n",
    "    if a[i]>=9 and a[i]<16:\n",
    "        a[i]=a[i]*-1\n",
    "print(a)"
   ]
  },
  {
   "cell_type": "markdown",
   "id": "485e3230-0da2-4784-a291-800d04f23a03",
   "metadata": {},
   "source": [
    "13.Sum of elements of array"
   ]
  },
  {
   "cell_type": "code",
   "execution_count": 30,
   "id": "7f8304ed-c456-4cdb-8375-8499b1929889",
   "metadata": {},
   "outputs": [
    {
     "name": "stdout",
     "output_type": "stream",
     "text": [
      "Sum of columns :  [4 6 8]\n",
      "Sum of rows :  [ 6 12]\n",
      "Sum of array :  18\n"
     ]
    }
   ],
   "source": [
    "a=np.array([[1,2,3],[3,4,5]])\n",
    "print(\"Sum of columns : \",sum(a))\n",
    "print(\"Sum of rows : \",a.sum(1))\n",
    "print(\"Sum of array : \",a.sum())"
   ]
  },
  {
   "cell_type": "markdown",
   "id": "d7bbb7eb-60b7-43e4-bcaf-6ff78430e439",
   "metadata": {},
   "source": [
    "14. Create a random 4x4 matrix and swap 1st and Last row"
   ]
  },
  {
   "cell_type": "code",
   "execution_count": 36,
   "id": "a9d030b0-6933-4a02-9e5f-0e98ebe9cffa",
   "metadata": {},
   "outputs": [
    {
     "name": "stdout",
     "output_type": "stream",
     "text": [
      "Original Matrix : \n",
      " [[9 8 7 5]\n",
      " [9 9 4 2]\n",
      " [4 8 9 5]\n",
      " [8 8 3 4]]\n",
      "\n",
      "Matrix after swapping : \n",
      " [[8 8 3 4]\n",
      " [9 9 4 2]\n",
      " [4 8 9 5]\n",
      " [9 8 7 5]]\n"
     ]
    }
   ],
   "source": [
    "import random\n",
    "L1=[]\n",
    "for i in range (4):\n",
    "    L2=[]\n",
    "    for j in range (4):\n",
    "        L2.append(random.randint(2,9))\n",
    "    L1.append(L2)\n",
    "a=np.array(L1)\n",
    "print(\"Original Matrix : \\n\",a)\n",
    "a[[0,-1]]=a[[-1,0]]\n",
    "print(\"\\nMatrix after swapping : \\n\",a)"
   ]
  },
  {
   "cell_type": "markdown",
   "id": "ba67fab6-22f3-4a42-8db6-36110a8127b3",
   "metadata": {},
   "source": [
    "15. Multiply elements of an array"
   ]
  },
  {
   "cell_type": "code",
   "execution_count": 37,
   "id": "034b7435-71ad-4218-86f4-c30fa49f56ae",
   "metadata": {},
   "outputs": [
    {
     "name": "stdout",
     "output_type": "stream",
     "text": [
      "Product [ 2  6 12 20]\n"
     ]
    }
   ],
   "source": [
    "a=np.array([1,2,3,4])\n",
    "b=np.array([2,3,4,5])\n",
    "c=a*b\n",
    "print(\"Product\",c)"
   ]
  },
  {
   "cell_type": "markdown",
   "id": "72927bdd",
   "metadata": {},
   "source": [
    "Exercise 2 : Matrix Operations"
   ]
  },
  {
   "cell_type": "markdown",
   "id": "aab1dd7c",
   "metadata": {},
   "source": [
    "1. Dot product\n"
   ]
  },
  {
   "cell_type": "code",
   "execution_count": 8,
   "id": "ec839558",
   "metadata": {},
   "outputs": [
    {
     "name": "stdout",
     "output_type": "stream",
     "text": [
      "Dot Product : \n",
      " [[10 13]\n",
      " [22 29]]\n"
     ]
    }
   ],
   "source": [
    "a=np.array([[1,2],[3,4]])\n",
    "b=np.array([[2,3],[4,5]])\n",
    "c= a.dot(b)\n",
    "print(\"Dot Product : \\n\",c)"
   ]
  },
  {
   "cell_type": "markdown",
   "id": "d0e117e8",
   "metadata": {},
   "source": [
    "2. Tranpose of Matrix\n"
   ]
  },
  {
   "cell_type": "code",
   "execution_count": 14,
   "id": "7df333dc",
   "metadata": {},
   "outputs": [
    {
     "name": "stdout",
     "output_type": "stream",
     "text": [
      "Initial Matrix : \n",
      " [[1 2]\n",
      " [3 4]] \n",
      "Tranpose Matrix : \n",
      " [[1 3]\n",
      " [2 4]]\n"
     ]
    }
   ],
   "source": [
    "a=np.array([[1,2],[3,4]])\n",
    "b= np.transpose(a)\n",
    "print(\"Initial Matrix : \\n\",a,\"\\nTranpose Matrix : \\n\",b)"
   ]
  },
  {
   "cell_type": "markdown",
   "id": "c5418db5",
   "metadata": {},
   "source": [
    "3. Determinant of Matrix"
   ]
  },
  {
   "cell_type": "code",
   "execution_count": 17,
   "id": "c25c9cce",
   "metadata": {},
   "outputs": [
    {
     "name": "stdout",
     "output_type": "stream",
     "text": [
      "Determinant of Matrix\n",
      " [[4 2]\n",
      " [3 4]] is :  10.000000000000002\n"
     ]
    }
   ],
   "source": [
    "a = np.array([[4,2],[3,4]])\n",
    "b = np.linalg.det(a)\n",
    "print(\"Determinant of Matrix\\n\",a,\"is : \",b)"
   ]
  },
  {
   "cell_type": "markdown",
   "id": "c521777e",
   "metadata": {},
   "source": [
    "4. Inverse of Matrix"
   ]
  },
  {
   "cell_type": "code",
   "execution_count": 20,
   "id": "aed806ea",
   "metadata": {},
   "outputs": [
    {
     "name": "stdout",
     "output_type": "stream",
     "text": [
      "Initial Matrix : \n",
      " [[4 2]\n",
      " [3 4]] \n",
      "Inverse Matrix : \n",
      " [[ 0.4 -0.2]\n",
      " [-0.3  0.4]]\n"
     ]
    }
   ],
   "source": [
    "a = np.array([[4,2],[3,4]])\n",
    "b = np.linalg.inv(a)\n",
    "print(\"Initial Matrix : \\n\",a,\"\\nInverse Matrix : \\n\",b)"
   ]
  },
  {
   "cell_type": "markdown",
   "id": "28e31ba5",
   "metadata": {},
   "source": [
    "5. Trace of Matrix"
   ]
  },
  {
   "cell_type": "code",
   "execution_count": 27,
   "id": "6ce56a1b",
   "metadata": {},
   "outputs": [
    {
     "name": "stdout",
     "output_type": "stream",
     "text": [
      "Trace of Matrix \n",
      " [[4 2 5]\n",
      " [3 4 1]\n",
      " [3 6 2]] \n",
      "is 10\n"
     ]
    }
   ],
   "source": [
    "a = np.array([[4,2,5],[3,4,1],[3,6,2]])\n",
    "b = np.linalg.trace(a)\n",
    "print(\"Trace of Matrix \\n\",a,\"\\nis\",b)"
   ]
  },
  {
   "cell_type": "markdown",
   "id": "206d5aff",
   "metadata": {},
   "source": [
    "6. Rank of Matrix"
   ]
  },
  {
   "cell_type": "code",
   "execution_count": 26,
   "id": "adf6e547",
   "metadata": {},
   "outputs": [
    {
     "name": "stdout",
     "output_type": "stream",
     "text": [
      "Rank of Matrix \n",
      " [[4 2]\n",
      " [3 4]] \n",
      "is 2\n"
     ]
    }
   ],
   "source": [
    "a = np.array([[4,2],[3,4]])\n",
    "b = np.linalg.matrix_rank(a)\n",
    "print(\"Rank of Matrix \\n\",a,\"\\nis\",b)"
   ]
  },
  {
   "cell_type": "markdown",
   "id": "01022f40",
   "metadata": {},
   "source": [
    "7. Eigen Value of Matrix"
   ]
  },
  {
   "cell_type": "code",
   "execution_count": 29,
   "id": "e52a96e9",
   "metadata": {},
   "outputs": [
    {
     "name": "stdout",
     "output_type": "stream",
     "text": [
      "Eigen value of Matrix \n",
      " [[4 2]\n",
      " [3 4]] \n",
      "is \n",
      " EigResult(eigenvalues=array([6.44948974, 1.55051026]), eigenvectors=array([[ 0.63245553, -0.63245553],\n",
      "       [ 0.77459667,  0.77459667]]))\n"
     ]
    }
   ],
   "source": [
    "a = np.array([[4,2],[3,4]])\n",
    "b = np.linalg.eig(a)\n",
    "print(\"Eigen value of Matrix \\n\",a,\"\\nis \\n\",b)"
   ]
  },
  {
   "cell_type": "markdown",
   "id": "51f7be7e",
   "metadata": {},
   "source": [
    "Exercise 3 : Plotting"
   ]
  },
  {
   "cell_type": "markdown",
   "id": "4c1e534c",
   "metadata": {},
   "source": [
    "1. Line Graph"
   ]
  },
  {
   "cell_type": "code",
   "execution_count": 67,
   "id": "1455d119",
   "metadata": {},
   "outputs": [
    {
     "data": {
      "image/png": "[encoded data removed]",
      "text/plain": [
       "<Figure size 640x480 with 1 Axes>"
      ]
     },
     "metadata": {},
     "output_type": "display_data"
    }
   ],
   "source": [
    "import matplotlib.pyplot as plt\n",
    "a=[12,23,34,45]\n",
    "b=[23,34,45,56]\n",
    "plt.plot(b,a , color=\"red\", marker=\"*\",alpha=1,mfc=\"green\",mec=\"green\",linestyle=\"--\",label=\"Random\") \n",
    "#color : change color of graph\n",
    "#marker : modify shape of points\n",
    "#alpha : modify opacity of graph\n",
    "#mfc : modify color of marker\n",
    "#mec : modify color of outline of marker\n",
    "#linestyle : modify the line of graph\n",
    "\n",
    "#Labelling\n",
    "plt.title(\"Example\")\n",
    "plt.xlabel(\"X-axis\")\n",
    "plt.ylabel(\"Y-axis\")\n",
    "\n",
    "c=np.arange(20,50,7)\n",
    "plt.plot(c,c+7,'b',label=\"Random 2\")\n",
    "plt.legend() #for labelling seperate datasets(linegraph) in same graph.\n",
    "plt.grid(5)\n"
   ]
  },
  {
   "cell_type": "markdown",
   "id": "0e7d078f",
   "metadata": {},
   "source": [
    "2. Scatter Plot"
   ]
  },
  {
   "cell_type": "code",
   "execution_count": 90,
   "id": "62416387",
   "metadata": {},
   "outputs": [
    {
     "data": {
      "text/plain": [
       "<BarContainer object of 4 artists>"
      ]
     },
     "execution_count": 90,
     "metadata": {},
     "output_type": "execute_result"
    },
    {
     "data": {
      "image/png": "[encoded data removed]",
      "text/plain": [
       "<Figure size 640x480 with 4 Axes>"
      ]
     },
     "metadata": {},
     "output_type": "display_data"
    }
   ],
   "source": [
    "a=[20,80,45,67]\n",
    "b=[60,10,37,55]\n",
    "d=[27,18,39,44]\n",
    "plt.subplot(2,2,1)\n",
    "plt.plot(a,b)\n",
    "plt.subplot(2,2,2)\n",
    "plt.scatter(d,b)\n",
    "plt.subplot(2,2,3)\n",
    "plt.bar(a,d,align=\"center\")\n",
    "plt.subplot(2,2,4)\n",
    "plt.barh(b,d)\n",
    "\n"
   ]
  },
  {
   "cell_type": "markdown",
   "id": "0aa2e1b3",
   "metadata": {},
   "source": [
    "3. Bar chart & Histogram\n"
   ]
  },
  {
   "cell_type": "code",
   "execution_count": 93,
   "id": "42f74c7d",
   "metadata": {},
   "outputs": [
    {
     "data": {
      "text/plain": [
       "<matplotlib.legend.Legend at 0x1d4ecb0c200>"
      ]
     },
     "execution_count": 93,
     "metadata": {},
     "output_type": "execute_result"
    },
    {
     "data": {
      "image/png": "[encoded data removed]",
      "text/plain": [
       "<Figure size 640x480 with 1 Axes>"
      ]
     },
     "metadata": {},
     "output_type": "display_data"
    }
   ],
   "source": [
    "a=[20,80,45,67]\n",
    "b=[60,10,37,55]\n",
    "d=[27,18,39,44]\n",
    "plt.bar(a,d,align=\"center\",label=\"Bar Graph\") #Bar graph\n",
    "plt.barh(b,d,label=\"Histogram\") #Histogram\n",
    "plt.legend()"
   ]
  },
  {
   "cell_type": "markdown",
   "id": "08a6df1d",
   "metadata": {},
   "source": [
    "4. Pie Chart\n"
   ]
  },
  {
   "cell_type": "code",
   "execution_count": 101,
   "id": "22057d72",
   "metadata": {},
   "outputs": [
    {
     "data": {
      "text/plain": [
       "([<matplotlib.patches.Wedge at 0x1d4efa62570>,\n",
       "  <matplotlib.patches.Wedge at 0x1d4efa624b0>,\n",
       "  <matplotlib.patches.Wedge at 0x1d4efa62ba0>,\n",
       "  <matplotlib.patches.Wedge at 0x1d4efa62ed0>],\n",
       " [Text(1.0520410795126391, 0.32126245815202403, ''),\n",
       "  Text(-0.22657648061681332, 1.0764121415291166, ''),\n",
       "  Text(-0.971072172241744, -0.5167386537677444, ''),\n",
       "  Text(0.6555543216798523, -1.0051112034630143, '')])"
      ]
     },
     "execution_count": 101,
     "metadata": {},
     "output_type": "execute_result"
    },
    {
     "data": {
      "image/png": "[encoded data removed]",
      "text/plain": [
       "<Figure size 640x480 with 1 Axes>"
      ]
     },
     "metadata": {},
     "output_type": "display_data"
    }
   ],
   "source": [
    "a=[20,80,45,67]\n",
    "plt.pie(a,colors=[\"red\",\"blue\",\"orange\",\"green\"],explode=(0,0,0,0.1))"
   ]
  },
  {
   "cell_type": "markdown",
   "id": "2b8ed246",
   "metadata": {},
   "source": [
    "Exersice 4 : Data Frames"
   ]
  },
  {
   "cell_type": "markdown",
   "id": "f17c12ac",
   "metadata": {},
   "source": [
    "1. Write a program to convert a list to series"
   ]
  },
  {
   "cell_type": "code",
   "execution_count": 103,
   "id": "8681d88f",
   "metadata": {},
   "outputs": [
    {
     "name": "stdout",
     "output_type": "stream",
     "text": [
      "a    1\n",
      "b    2\n",
      "c    3\n",
      "d    4\n",
      "dtype: int64\n"
     ]
    }
   ],
   "source": [
    "import pandas as pd\n",
    "a=[1,2,3,4]\n",
    "b=['a','b','c','d']\n",
    "s=pd.Series(a,index=b)\n",
    "print(s)"
   ]
  },
  {
   "cell_type": "markdown",
   "id": "7f816e4d",
   "metadata": {},
   "source": [
    "2. Write a program to generate a series of dates from Aug 1 2024 to 15th Aug 2024 including both of these"
   ]
  },
  {
   "cell_type": "code",
   "execution_count": 105,
   "id": "53ecde5b",
   "metadata": {},
   "outputs": [
    {
     "name": "stdout",
     "output_type": "stream",
     "text": [
      "1     Aug 2024\n",
      "2     Aug 2024\n",
      "3     Aug 2024\n",
      "4     Aug 2024\n",
      "5     Aug 2024\n",
      "6     Aug 2024\n",
      "7     Aug 2024\n",
      "8     Aug 2024\n",
      "9     Aug 2024\n",
      "10    Aug 2024\n",
      "11    Aug 2024\n",
      "12    Aug 2024\n",
      "13    Aug 2024\n",
      "14    Aug 2024\n",
      "15    Aug 2024\n",
      "dtype: object\n"
     ]
    }
   ],
   "source": [
    "a=np.arange(1,16,1)\n",
    "b=\"Aug 2024\"\n",
    "c=pd.Series(b,a)\n",
    "print(c)\n",
    "    "
   ]
  },
  {
   "cell_type": "code",
   "execution_count": 108,
   "id": "b12fe28b",
   "metadata": {},
   "outputs": [
    {
     "name": "stdout",
     "output_type": "stream",
     "text": [
      "0     2024-08-01\n",
      "1     2024-08-02\n",
      "2     2024-08-03\n",
      "3     2024-08-04\n",
      "4     2024-08-05\n",
      "5     2024-08-06\n",
      "6     2024-08-07\n",
      "7     2024-08-08\n",
      "8     2024-08-09\n",
      "9     2024-08-10\n",
      "10    2024-08-11\n",
      "11    2024-08-12\n",
      "12    2024-08-13\n",
      "13    2024-08-14\n",
      "14    2024-08-15\n",
      "dtype: object\n"
     ]
    }
   ],
   "source": [
    "from datetime import date\n",
    "l=[]\n",
    "for i in range(1,16):\n",
    "    x=date(2024,8,i)\n",
    "    l.append(x)\n",
    "s=pd.Series(l)\n",
    "print(s)\n"
   ]
  },
  {
   "cell_type": "markdown",
   "id": "0a6f0faa",
   "metadata": {},
   "source": [
    "3. Write a program to convert a dictionary to a data frame and display it."
   ]
  },
  {
   "cell_type": "code",
   "execution_count": 109,
   "id": "84ce3ee2",
   "metadata": {},
   "outputs": [
    {
     "name": "stdout",
     "output_type": "stream",
     "text": [
      "  name  mark\n",
      "0    a     2\n",
      "1    b     3\n",
      "2    c     4\n"
     ]
    }
   ],
   "source": [
    "d={\"name\":['a','b','c'], \"mark\":[2,3,4]} #dictionary\n",
    "df=pd.DataFrame(d)\n",
    "print(df)"
   ]
  },
  {
   "cell_type": "markdown",
   "id": "64546d98",
   "metadata": {},
   "source": [
    "4. Write a program to create a 2D list and convert it into data frame and display it.\n"
   ]
  },
  {
   "cell_type": "code",
   "execution_count": 121,
   "id": "8faa2d1d",
   "metadata": {},
   "outputs": [
    {
     "name": "stdout",
     "output_type": "stream",
     "text": [
      "[[1 2]\n",
      " [2 3]]\n",
      "   N1  N2\n",
      "0   1   2\n",
      "1   2   3\n"
     ]
    }
   ],
   "source": [
    "m=list(map(int,input(\"Enter Values : \").split()))\n",
    "n=list(map(int,input(\"Enter Values : \").split()))\n",
    "l=np.array([m,n])\n",
    "print(l)\n",
    "df=pd.DataFrame(l,columns=[\"N1\",\"N2\"])\n",
    "print(df)"
   ]
  },
  {
   "cell_type": "code",
   "execution_count": null,
   "id": "73dcfa37",
   "metadata": {},
   "outputs": [],
   "source": []
  },
  {
   "cell_type": "code",
   "execution_count": null,
   "id": "0d97315d",
   "metadata": {},
   "outputs": [],
   "source": []
  }
 ],
 "metadata": {
  "kernelspec": {
   "display_name": "Python 3",
   "language": "python",
   "name": "python3"
  },
  "language_info": {
   "codemirror_mode": {
    "name": "ipython",
    "version": 3
   },
   "file_extension": ".py",
   "mimetype": "text/x-python",
   "name": "python",
   "nbconvert_exporter": "python",
   "pygments_lexer": "ipython3",
   "version": "3.12.7"
  }
 },
 "nbformat": 4,
 "nbformat_minor": 5
}
