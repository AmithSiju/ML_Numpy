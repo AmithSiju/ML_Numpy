{
 "cells": [
  {
   "cell_type": "code",
   "execution_count": 3,
   "id": "160cc400-856f-4637-8479-f3d5607edd09",
   "metadata": {},
   "outputs": [
    {
     "name": "stdin",
     "output_type": "stream",
     "text": [
      "Enter the number of rows:  3\n",
      "Enter the number of cols:  3\n",
      "Enter elements : 1 2 3 4 5 6 7 8 9\n"
     ]
    },
    {
     "name": "stdout",
     "output_type": "stream",
     "text": [
      "[1, 2, 3, 4, 5, 6, 7, 8, 9] \n",
      " [[1 2 3]\n",
      " [4 5 6]\n",
      " [7 8 9]]\n"
     ]
    }
   ],
   "source": [
    "import numpy as np\n",
    "r = int(input(\"Enter the number of rows: \"))\n",
    "c = int(input(\"Enter the number of cols: \"))\n",
    "elems = list(map(int,input(\"Enter elements :\").split()))\n",
    "matrix = np.array(elems).reshape(r,c)\n",
    "print(elems,'\\n',matrix)"
   ]
  },
  {
   "cell_type": "markdown",
   "id": "1e908c33-ad1c-4d4e-a0a4-e48ef24b16da",
   "metadata": {},
   "source": [
    "1. Write a numpy program to compute the sum of all elements, sum of each row and sum of each column of the given array."
   ]
  },
  {
   "cell_type": "code",
   "execution_count": 13,
   "id": "e878977c-0830-4714-95e7-310a2f66f06c",
   "metadata": {},
   "outputs": [
    {
     "name": "stdout",
     "output_type": "stream",
     "text": [
      "Row Sum :\n",
      "6\n",
      "15\n",
      "24\n",
      "\n",
      "Column Sum :\n",
      "12\n",
      "15\n",
      "18\n",
      "\n",
      "Total Sum :  45\n"
     ]
    }
   ],
   "source": [
    "ts = 0\n",
    "print(\"Row Sum :\")\n",
    "for i in range(r):\n",
    "    rs=0\n",
    "    for j in range(c):\n",
    "        rs = rs + matrix[i][j]\n",
    "    print(rs)\n",
    "\n",
    "print(\"\\nColumn Sum :\")\n",
    "for j in range(c):\n",
    "    cs = 0\n",
    "    for i in range(r):\n",
    "        cs = cs  + matrix[i][j]\n",
    "    ts = ts + cs\n",
    "    print(cs)\n",
    "\n",
    "print(\"\\nTotal Sum : \",ts)\n"
   ]
  },
  {
   "cell_type": "markdown",
   "id": "3539523b-ac38-4b01-b2a5-6f69968bc555",
   "metadata": {},
   "source": [
    "2. Write a numpy program to save a given array to a text file and load it"
   ]
  },
  {
   "cell_type": "code",
   "execution_count": 20,
   "id": "a6285e09-039d-4cf5-b9ba-c192028ed607",
   "metadata": {},
   "outputs": [
    {
     "name": "stdout",
     "output_type": "stream",
     "text": [
      "Original 2D array:\n",
      "[[1 2 3]\n",
      " [4 5 6]\n",
      " [7 8 9]]\n",
      "\n",
      "Loaded 2D array:\n",
      "[[1. 2. 3.]\n",
      " [4. 5. 6.]\n",
      " [7. 8. 9.]]\n"
     ]
    }
   ],
   "source": [
    "np.savetxt('array.txt',matrix)\n",
    "matrix2= np.loadtxt('array.txt')\n",
    "print(\"Original 2D array:\")\n",
    "print(matrix)\n",
    "print(\"\\nLoaded 2D array:\")\n",
    "print(matrix2)"
   ]
  },
  {
   "cell_type": "markdown",
   "id": "96ef46b9-b68b-4f1e-92be-acb1e338483a",
   "metadata": {},
   "source": [
    "3. To check whether two arrays are equal or not (element-wise comparison) "
   ]
  },
  {
   "cell_type": "code",
   "execution_count": 24,
   "id": "b4ebe14b-709e-4b01-86ec-f1ff6c078935",
   "metadata": {},
   "outputs": [
    {
     "name": "stdout",
     "output_type": "stream",
     "text": [
      "Inequal\n"
     ]
    }
   ],
   "source": [
    "a = np.array([1,2,3,4,5])\n",
    "b = np.array([9,8,7,6,5])\n",
    "if(np.array_equal(a,b)):\n",
    "    print(\"Equal\")\n",
    "else:\n",
    "    print(\"Inequal\")"
   ]
  },
  {
   "cell_type": "code",
   "execution_count": null,
   "id": "3062d62e-0893-483d-8641-2df88afc59d5",
   "metadata": {},
   "outputs": [],
   "source": [
    "4. Create a 4x4 array with random values and create a new array from the first array and swap the first and last row."
   ]
  },
  {
   "cell_type": "code",
   "execution_count": 38,
   "id": "3ba2ca91-58f6-47a1-b7cd-8eb58470eb0f",
   "metadata": {},
   "outputs": [
    {
     "name": "stdout",
     "output_type": "stream",
     "text": [
      "First Array: \n",
      "\n",
      " [[ 8  5  2  9]\n",
      " [ 1 10  5 10]\n",
      " [ 6  8  8  9]\n",
      " [ 3 10  1  7]]\n",
      "\n",
      "New Array: \n",
      "\n",
      " [[ 3 10  1  7]\n",
      " [ 1 10  5 10]\n",
      " [ 6  8  8  9]\n",
      " [ 8  5  2  9]]\n"
     ]
    }
   ],
   "source": [
    "import random as rand\n",
    "import numpy as np\n",
    "elems = [rand.randint(1, 10) for _ in range(16)]\n",
    "matrix = np.array(elems).reshape(4, 4)\n",
    "print(\"First Array: \\n\\n\",matrix)\n",
    "elems2 = elems[12:16] + elems[4:12] + elems[0:4]\n",
    "matrix2 = np.array(elems2).reshape(4, 4)\n",
    "print(\"\\nNew Array: \\n\\n\",matrix2)\n",
    "\n"
   ]
  },
  {
   "cell_type": "code",
   "execution_count": null,
   "id": "b7033f33-29cc-47be-a9b8-6308d4d476dd",
   "metadata": {},
   "outputs": [],
   "source": [
    "5. To multiply 2 given arrays of same size, element by element"
   ]
  },
  {
   "cell_type": "code",
   "execution_count": 46,
   "id": "49d8aeda-0e2d-474b-9a89-8835ce6f7a9f",
   "metadata": {},
   "outputs": [
    {
     "name": "stdout",
     "output_type": "stream",
     "text": [
      "First Array: \n",
      "\n",
      " [[ 9  9  4  5]\n",
      " [10  7  2  1]\n",
      " [ 2  8  8  7]\n",
      " [ 1  2 10  9]]\n",
      "Second Array: \n",
      "\n",
      " [[7 6 1 3]\n",
      " [2 2 9 1]\n",
      " [2 5 1 2]\n",
      " [1 7 6 7]]\n",
      "\n",
      "Multiplied Matrix:\n",
      " [[63 54  4 15]\n",
      " [20 14 18  1]\n",
      " [ 4 40  8 14]\n",
      " [ 1 14 60 63]]\n"
     ]
    }
   ],
   "source": [
    "e = [rand.randint(1, 10) for _ in range(16)]\n",
    "m1 = np.array(e).reshape(4, 4)\n",
    "print(\"First Array: \\n\\n\",m1)\n",
    "\n",
    "e2 = [rand.randint(1, 10) for _ in range(16)]\n",
    "m2 = np.array(e2).reshape(4, 4)\n",
    "print(\"Second Array: \\n\\n\",m2)\n",
    "\n",
    "m3=[]\n",
    "for i in range(4):\n",
    "    row = []\n",
    "    for j in range(4):\n",
    "        row.append(m1[i][j] * m2[i][j])\n",
    "    m3.append(row)\n",
    "\n",
    "print(\"\\nMultiplied Matrix:\\n\",np.array(m3).reshape(4,4))\n",
    "        "
   ]
  }
 ],
 "metadata": {
  "kernelspec": {
   "display_name": "Python 3 (ipykernel)",
   "language": "python",
   "name": "python3"
  },
  "language_info": {
   "codemirror_mode": {
    "name": "ipython",
    "version": 3
   },
   "file_extension": ".py",
   "mimetype": "text/x-python",
   "name": "python",
   "nbconvert_exporter": "python",
   "pygments_lexer": "ipython3",
   "version": "3.12.4"
  }
 },
 "nbformat": 4,
 "nbformat_minor": 5
}
