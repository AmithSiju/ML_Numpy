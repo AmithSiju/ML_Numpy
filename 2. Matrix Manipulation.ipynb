{
 "cells": [
  {
   "cell_type": "markdown",
   "id": "583ee0d8-1871-4b4f-9fec-f166a1a283a5",
   "metadata": {},
   "source": [
    "Matrix Operations"
   ]
  },
  {
   "cell_type": "code",
   "execution_count": 4,
   "id": "e596b4a4-8125-48ce-92bd-f3bf122fb3f5",
   "metadata": {},
   "outputs": [],
   "source": [
    "import numpy as np"
   ]
  },
  {
   "cell_type": "code",
   "execution_count": 5,
   "id": "7d534e23-cf62-49c3-a9de-9c121e09536a",
   "metadata": {},
   "outputs": [
    {
     "name": "stdout",
     "output_type": "stream",
     "text": [
      "[5 4 3 3 2] [1 2 3 4 5]\n"
     ]
    }
   ],
   "source": [
    "a = [[1,2,3],[4,5,6],[7,8,9]]\n",
    "c = np.array([1,2,3,4,5])\n",
    "d = np.array([5,4,3,3,2])\n",
    "print(d,c)"
   ]
  },
  {
   "cell_type": "markdown",
   "id": "a7e75e55-7596-412a-953a-cd8619eaa936",
   "metadata": {},
   "source": [
    "Dot Product"
   ]
  },
  {
   "cell_type": "code",
   "execution_count": 6,
   "id": "1c64b14d-43f0-4e94-9209-d6b0ef81c9c8",
   "metadata": {},
   "outputs": [
    {
     "name": "stdout",
     "output_type": "stream",
     "text": [
      "44\n"
     ]
    }
   ],
   "source": [
    "print(np.dot(d,c))"
   ]
  },
  {
   "cell_type": "markdown",
   "id": "be3b38f2-8635-4ac3-a76f-dafc2e088fe7",
   "metadata": {},
   "source": [
    "Transpose"
   ]
  },
  {
   "cell_type": "code",
   "execution_count": 7,
   "id": "cf231279-0918-4175-bea7-6dc69453bf81",
   "metadata": {},
   "outputs": [
    {
     "name": "stdout",
     "output_type": "stream",
     "text": [
      "Matrix A is :  [[1, 2, 3], [4, 5, 6], [7, 8, 9]]\n",
      "Transpose is : \n",
      "[[1 4 7]\n",
      " [2 5 8]\n",
      " [3 6 9]]\n"
     ]
    }
   ],
   "source": [
    "print(\"Matrix A is : \",a)\n",
    "print(\"Transpose is : \")\n",
    "print(np.transpose(a))"
   ]
  },
  {
   "cell_type": "markdown",
   "id": "8814e46f-4c41-41a8-8ff0-1ecae2752f9b",
   "metadata": {},
   "source": [
    "Inverse of a Matrix "
   ]
  },
  {
   "cell_type": "code",
   "execution_count": 8,
   "id": "1e446513-2c1e-4fa3-b34d-787458675435",
   "metadata": {},
   "outputs": [
    {
     "name": "stdout",
     "output_type": "stream",
     "text": [
      "[[ 3.15251974e+15 -6.30503948e+15  3.15251974e+15]\n",
      " [-6.30503948e+15  1.26100790e+16 -6.30503948e+15]\n",
      " [ 3.15251974e+15 -6.30503948e+15  3.15251974e+15]]\n"
     ]
    }
   ],
   "source": [
    "print(np.linalg.inv(a))"
   ]
  },
  {
   "cell_type": "markdown",
   "id": "5bd45d6a-6516-496a-850a-cb09afca98ab",
   "metadata": {},
   "source": [
    "Determinant of a Matrix"
   ]
  },
  {
   "cell_type": "code",
   "execution_count": 9,
   "id": "4e988441-9520-4636-b58f-57cc633fa4a1",
   "metadata": {},
   "outputs": [
    {
     "name": "stdout",
     "output_type": "stream",
     "text": [
      "-9.51619735392994e-16\n"
     ]
    }
   ],
   "source": [
    "print(np.linalg.det(a))"
   ]
  },
  {
   "cell_type": "markdown",
   "id": "cbdb5da2-36d2-4b76-bc5d-73770e3e666b",
   "metadata": {},
   "source": [
    "Flatten a Matrix"
   ]
  },
  {
   "cell_type": "code",
   "execution_count": 14,
   "id": "f7c09d9e-6990-4245-9813-b0eb7e8dcacf",
   "metadata": {},
   "outputs": [
    {
     "name": "stdout",
     "output_type": "stream",
     "text": [
      "[1 2 3 4 5 6]\n"
     ]
    }
   ],
   "source": [
    "b = np.array([1,2,3,4,5,6])\n",
    "print(b.flatten())"
   ]
  },
  {
   "cell_type": "markdown",
   "id": "d0bfb6a4-6812-4624-ba90-978664e19000",
   "metadata": {},
   "source": [
    "Matrix Creation - Level : Noob"
   ]
  },
  {
   "cell_type": "code",
   "execution_count": 48,
   "id": "714ab909-e2f7-435e-b98c-c2135281a744",
   "metadata": {},
   "outputs": [
    {
     "name": "stdin",
     "output_type": "stream",
     "text": [
      "Enter the number of rows:  3\n",
      "Enter the number of columns:  3\n",
      " 1\n",
      " 2\n",
      " 3\n",
      " 4\n",
      " 5\n",
      " 6\n",
      " 7\n",
      " 8\n",
      " 9\n"
     ]
    },
    {
     "name": "stdout",
     "output_type": "stream",
     "text": [
      "[[1, 2, 3], [4, 5, 6], [7, 8, 9]]\n"
     ]
    }
   ],
   "source": [
    "a = int(input(\"Enter the number of rows: \"))\n",
    "b = int(input(\"Enter the number of columns: \"))\n",
    "matrix=[]\n",
    "for i in range(a):\n",
    "    row=[]\n",
    "    for j in range(b):\n",
    "        elem = int(input())\n",
    "        row.append(elem)\n",
    "    matrix.append(row)\n",
    "print(matrix)"
   ]
  },
  {
   "cell_type": "markdown",
   "id": "d7b379fe-60ca-4630-abf5-3884d2da1374",
   "metadata": {},
   "source": [
    "Matrix Creation using 'list,map,split' - Level : Pro"
   ]
  },
  {
   "cell_type": "code",
   "execution_count": 16,
   "id": "2bdcef62-d707-4700-9e93-3116782131b2",
   "metadata": {},
   "outputs": [
    {
     "name": "stdin",
     "output_type": "stream",
     "text": [
      "Enter the number of rows:  2\n",
      "Enter the number of cols:  3\n",
      "Enter elements : 1 2 3 4 5 6\n"
     ]
    },
    {
     "name": "stdout",
     "output_type": "stream",
     "text": [
      "[1, 2, 3, 4, 5, 6] \n",
      " [[1 2 3]\n",
      " [4 5 6]]\n"
     ]
    }
   ],
   "source": [
    "r = int(input(\"Enter the number of rows: \"))\n",
    "c = int(input(\"Enter the number of cols: \"))\n",
    "elems = list(map(int,input(\"Enter elements :\").split()))\n",
    "matrix = np.array(elems).reshape(r,c)\n",
    "print(elems,'\\n',matrix)"
   ]
  },
  {
   "cell_type": "code",
   "execution_count": null,
   "id": "baf829aa-0c94-4b03-9704-6352b2c488e8",
   "metadata": {},
   "outputs": [],
   "source": [
    "Trace Of A Matrix : Sum of Diagonal Elements "
   ]
  },
  {
   "cell_type": "code",
   "execution_count": 17,
   "id": "da0a6e56-cdbe-4ad9-a039-19a99f939946",
   "metadata": {},
   "outputs": [
    {
     "data": {
      "text/plain": [
       "6"
      ]
     },
     "execution_count": 17,
     "metadata": {},
     "output_type": "execute_result"
    }
   ],
   "source": [
    "matrix.trace()"
   ]
  },
  {
   "cell_type": "code",
   "execution_count": null,
   "id": "2a0e2c42-f9ac-4205-be9d-f920ebcab756",
   "metadata": {},
   "outputs": [],
   "source": [
    "Rank of a Matrix"
   ]
  },
  {
   "cell_type": "code",
   "execution_count": 22,
   "id": "cc9719bb-19a7-4dd7-b8d1-4d956139e359",
   "metadata": {},
   "outputs": [
    {
     "name": "stdout",
     "output_type": "stream",
     "text": [
      "2\n"
     ]
    }
   ],
   "source": [
    "print(np.linalg.matrix_rank(matrix))"
   ]
  },
  {
   "cell_type": "code",
   "execution_count": null,
   "id": "31fa074d-f758-461a-b888-d533aabd452d",
   "metadata": {},
   "outputs": [],
   "source": []
  }
 ],
 "metadata": {
  "kernelspec": {
   "display_name": "Python 3 (ipykernel)",
   "language": "python",
   "name": "python3"
  },
  "language_info": {
   "codemirror_mode": {
    "name": "ipython",
    "version": 3
   },
   "file_extension": ".py",
   "mimetype": "text/x-python",
   "name": "python",
   "nbconvert_exporter": "python",
   "pygments_lexer": "ipython3",
   "version": "3.12.4"
  }
 },
 "nbformat": 4,
 "nbformat_minor": 5
}
