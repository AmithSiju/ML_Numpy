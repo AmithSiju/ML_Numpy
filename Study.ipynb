{
 "cells": [
  {
   "cell_type": "markdown",
   "id": "5fd33a24-336c-44b0-a3ce-cfe5b5af379a",
   "metadata": {},
   "source": [
    "Excise 1\n",
    "1. Create a 1-D array"
   ]
  },
  {
   "cell_type": "code",
   "execution_count": 2,
   "id": "2891a65a-a687-4028-a6d4-7163da02190e",
   "metadata": {},
   "outputs": [
    {
     "name": "stdout",
     "output_type": "stream",
     "text": [
      "[1 2 3 4]\n",
      "<class 'numpy.ndarray'>\n"
     ]
    }
   ],
   "source": [
    "import numpy as np\n",
    "a=np.array([1,2,3,4])\n",
    "print(a)\n",
    "print(type(a))"
   ]
  },
  {
   "cell_type": "markdown",
   "id": "dc53abfb-5119-47c1-b25d-d3686978ee09",
   "metadata": {},
   "source": [
    "2. Create a 2-D array"
   ]
  },
  {
   "cell_type": "code",
   "execution_count": 3,
   "id": "820580a6-75bc-4efe-886a-90c72baba6c4",
   "metadata": {},
   "outputs": [
    {
     "name": "stdout",
     "output_type": "stream",
     "text": [
      "[[1 2]\n",
      " [2 3]]\n",
      "<class 'numpy.ndarray'>\n"
     ]
    }
   ],
   "source": [
    "b=np.array([[1,2],[2,3]])\n",
    "print(b)\n",
    "print(type(b))"
   ]
  },
  {
   "cell_type": "markdown",
   "id": "4c8bff4a-c978-49b1-a38f-7d4cbe3f98d5",
   "metadata": {},
   "source": [
    "3. Array using \"np.arange\""
   ]
  },
  {
   "cell_type": "code",
   "execution_count": 6,
   "id": "0cc24828-6575-4a61-aa7c-da7484d5f84a",
   "metadata": {},
   "outputs": [
    {
     "name": "stdout",
     "output_type": "stream",
     "text": [
      "[0 1 2 3 4]\n",
      "<class 'numpy.ndarray'>\n"
     ]
    }
   ],
   "source": [
    "c=np.arange(5)\n",
    "print(c)\n",
    "print(type(c))"
   ]
  },
  {
   "cell_type": "markdown",
   "id": "d50a0f8c-935b-4712-a256-e7706c4e9591",
   "metadata": {},
   "source": [
    "4. User defined 1-D array"
   ]
  },
  {
   "cell_type": "code",
   "execution_count": 18,
   "id": "0dc04afd-f261-4fe8-acde-d6addf290000",
   "metadata": {},
   "outputs": [
    {
     "name": "stdin",
     "output_type": "stream",
     "text": [
      "Enter numbers :  1 2 3 4\n"
     ]
    },
    {
     "name": "stdout",
     "output_type": "stream",
     "text": [
      "[1 2 3 4]\n"
     ]
    }
   ],
   "source": [
    "n=list(map(int,input(\"Enter numbers : \").split()))\n",
    "d=np.array(n)\n",
    "print(d)"
   ]
  },
  {
   "cell_type": "markdown",
   "id": "d229269f-388e-4093-96c6-8fda949b2e25",
   "metadata": {},
   "source": [
    "5. User defined 2-D array"
   ]
  },
  {
   "cell_type": "code",
   "execution_count": 20,
   "id": "d591fdd8-3ca3-4689-88fe-510c5ed3610f",
   "metadata": {},
   "outputs": [
    {
     "name": "stdin",
     "output_type": "stream",
     "text": [
      "Enter 1st numbers :  1 2 3\n",
      "Enter 2nd numbers :  2 3 4\n"
     ]
    },
    {
     "name": "stdout",
     "output_type": "stream",
     "text": [
      "[[1 2 3]\n",
      " [2 3 4]]\n"
     ]
    }
   ],
   "source": [
    "x=list(map(int,input(\"Enter 1st sub-list : \").split()))\n",
    "y=list(map(int,input(\"Enter 2nd sub-list : \").split()))\n",
    "e=np.array([x,y])\n",
    "print(e)"
   ]
  },
  {
   "cell_type": "markdown",
   "id": "54ca013d-b92e-4236-a992-07a25defb4f0",
   "metadata": {},
   "source": [
    "6. Finding dimension of a array"
   ]
  },
  {
   "cell_type": "code",
   "execution_count": 26,
   "id": "e2159587-b058-4e12-aef8-346d3f2b69d5",
   "metadata": {},
   "outputs": [
    {
     "name": "stdout",
     "output_type": "stream",
     "text": [
      "(3,)\n",
      "(2, 3)\n"
     ]
    }
   ],
   "source": [
    "print(c.shape)\n",
    "print(e.shape)"
   ]
  },
  {
   "cell_type": "markdown",
   "id": "d5e48b54-b017-485f-b370-b8d8357fb45b",
   "metadata": {},
   "source": [
    "7. Change shape of array"
   ]
  },
  {
   "cell_type": "code",
   "execution_count": 30,
   "id": "2df3f046-4e27-49b9-82a8-b31203558cad",
   "metadata": {},
   "outputs": [
    {
     "name": "stdout",
     "output_type": "stream",
     "text": [
      "[[1 2]\n",
      " [3 2]\n",
      " [3 4]]\n"
     ]
    }
   ],
   "source": [
    "g=e.reshape(3,2)\n",
    "print(g)"
   ]
  },
  {
   "cell_type": "markdown",
   "id": "4b72a1dd-d705-4d7c-95e8-307e934fef31",
   "metadata": {},
   "source": [
    "8. Matrix of n no of zeros"
   ]
  },
  {
   "cell_type": "code",
   "execution_count": 32,
   "id": "9d50b042-90ce-4448-bcbd-b074f6a9da40",
   "metadata": {},
   "outputs": [
    {
     "name": "stdout",
     "output_type": "stream",
     "text": [
      "[0. 0. 0. 0.]\n",
      "[[0. 0.]\n",
      " [0. 0.]]\n"
     ]
    }
   ],
   "source": [
    "a = np.zeros(4)\n",
    "print(a)\n",
    "b = a.reshape(2,2)\n",
    "print(b)"
   ]
  },
  {
   "cell_type": "code",
   "execution_count": null,
   "id": "0a7d159c-3da5-4998-9de5-bd6f7d1743e4",
   "metadata": {},
   "outputs": [],
   "source": []
  }
 ],
 "metadata": {
  "kernelspec": {
   "display_name": "Python 3 (ipykernel)",
   "language": "python",
   "name": "python3"
  },
  "language_info": {
   "codemirror_mode": {
    "name": "ipython",
    "version": 3
   },
   "file_extension": ".py",
   "mimetype": "text/x-python",
   "name": "python",
   "nbconvert_exporter": "python",
   "pygments_lexer": "ipython3",
   "version": "3.12.4"
  }
 },
 "nbformat": 4,
 "nbformat_minor": 5
}
